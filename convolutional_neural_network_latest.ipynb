{
  "cells": [
    {
      "cell_type": "markdown",
      "metadata": {
        "id": "3DR-eO17geWu"
      },
      "source": [
        "# Convolutional Neural Network"
      ]
    },
    {
      "cell_type": "markdown",
      "metadata": {
        "id": "EMefrVPCg-60"
      },
      "source": [
        "### Importing the libraries"
      ]
    },
    {
      "cell_type": "code",
      "execution_count": null,
      "metadata": {
        "id": "fSskGF3umEz3"
      },
      "outputs": [],
      "source": [
        "import tensorflow as tf\n",
        "from keras.preprocessing.image import ImageDataGenerator"
      ]
    },
    {
      "cell_type": "code",
      "execution_count": null,
      "metadata": {
        "colab": {
          "base_uri": "https://localhost:8080/",
          "height": 36
        },
        "id": "1mbJtZfVn9DQ",
        "outputId": "3e9baccd-b5e5-4b23-868e-bc5a045d220a"
      },
      "outputs": [
        {
          "data": {
            "text/plain": [
              "'2.11.0'"
            ]
          },
          "execution_count": 2,
          "metadata": {},
          "output_type": "execute_result"
        }
      ],
      "source": [
        "tf.__version__"
      ]
    },
    {
      "cell_type": "markdown",
      "metadata": {
        "id": "oxQxCBWyoGPE"
      },
      "source": [
        "## Part 1 - Data Preprocessing"
      ]
    },
    {
      "cell_type": "markdown",
      "metadata": {
        "id": "MvE-heJNo3GG"
      },
      "source": [
        "### Preprocessing the Training set"
      ]
    },
    {
      "cell_type": "code",
      "execution_count": null,
      "metadata": {
        "id": "oOdYA5zPoF_3",
        "outputId": "b996a94a-8248-4090-fad9-8da23a49cbaf"
      },
      "outputs": [
        {
          "name": "stdout",
          "output_type": "stream",
          "text": [
            "Found 8000 images belonging to 2 classes.\n"
          ]
        }
      ],
      "source": [
        "train_datagen = ImageDataGenerator(\n",
        "        rescale=1./255,\n",
        "        shear_range=0.2,\n",
        "        zoom_range=0.2,\n",
        "        horizontal_flip=True)\n",
        "training_set = train_datagen.flow_from_directory(\n",
        "        'training_set',\n",
        "        target_size=(64, 64),\n",
        "        batch_size=32,\n",
        "        class_mode='binary')"
      ]
    },
    {
      "cell_type": "markdown",
      "metadata": {
        "id": "mrCMmGw9pHys"
      },
      "source": [
        "### Preprocessing the Test set"
      ]
    },
    {
      "cell_type": "code",
      "execution_count": null,
      "metadata": {
        "id": "rQvymKlmyPFQ",
        "outputId": "1941a131-bf14-4ec6-e09b-586fca031d15"
      },
      "outputs": [
        {
          "name": "stdout",
          "output_type": "stream",
          "text": [
            "Found 2000 images belonging to 2 classes.\n"
          ]
        }
      ],
      "source": [
        "test_datagen = ImageDataGenerator(rescale=1./255)\n",
        "test_set = test_datagen.flow_from_directory(\n",
        "        'test_set',\n",
        "        target_size=(64, 64),\n",
        "        batch_size=32,\n",
        "        class_mode='binary')"
      ]
    },
    {
      "cell_type": "markdown",
      "metadata": {
        "id": "af8O4l90gk7B"
      },
      "source": [
        "## Part 2 - Building the CNN"
      ]
    },
    {
      "cell_type": "markdown",
      "metadata": {
        "id": "ces1gXY2lmoX"
      },
      "source": [
        "### Initialising the CNN"
      ]
    },
    {
      "cell_type": "code",
      "execution_count": null,
      "metadata": {
        "id": "fSRtDLsV2_GE"
      },
      "outputs": [],
      "source": [
        "cnn = tf.keras.models.Sequential()"
      ]
    },
    {
      "cell_type": "markdown",
      "metadata": {
        "id": "u5YJj_XMl5LF"
      },
      "source": [
        "### Step 1 - Convolution"
      ]
    },
    {
      "cell_type": "code",
      "execution_count": null,
      "metadata": {
        "id": "m4wmAXAL3VBi"
      },
      "outputs": [],
      "source": [
        "cnn.add(tf.keras.layers.Conv2D(filters = 32, kernel_size = 3, activation = 'relu', input_shape = [64, 64, 3]))"
      ]
    },
    {
      "cell_type": "markdown",
      "metadata": {
        "id": "tf87FpvxmNOJ"
      },
      "source": [
        "### Step 2 - Pooling"
      ]
    },
    {
      "cell_type": "code",
      "execution_count": null,
      "metadata": {
        "id": "kN5UDpqr5dXk"
      },
      "outputs": [],
      "source": [
        "cnn.add(tf.keras.layers.MaxPool2D(pool_size = 2, strides = 2))"
      ]
    },
    {
      "cell_type": "markdown",
      "metadata": {
        "id": "xaTOgD8rm4mU"
      },
      "source": [
        "### Adding a second convolutional layer"
      ]
    },
    {
      "cell_type": "code",
      "execution_count": null,
      "metadata": {
        "id": "2e4X4bQa6323"
      },
      "outputs": [],
      "source": [
        "cnn.add(tf.keras.layers.Conv2D(filters = 32, kernel_size = 3, activation = 'relu'))\n",
        "cnn.add(tf.keras.layers.MaxPool2D(pool_size = 2, strides = 2))"
      ]
    },
    {
      "cell_type": "markdown",
      "metadata": {
        "id": "tmiEuvTunKfk"
      },
      "source": [
        "### Step 3 - Flattening"
      ]
    },
    {
      "cell_type": "code",
      "execution_count": null,
      "metadata": {
        "id": "MSQPclUC7EYH"
      },
      "outputs": [],
      "source": [
        "cnn.add(tf.keras.layers.Flatten())"
      ]
    },
    {
      "cell_type": "markdown",
      "metadata": {
        "id": "dAoSECOm203v"
      },
      "source": [
        "### Step 4 - Full Connection"
      ]
    },
    {
      "cell_type": "code",
      "execution_count": null,
      "metadata": {
        "id": "UL9-N2bk784T"
      },
      "outputs": [],
      "source": [
        "cnn.add(tf.keras.layers.Dense(units=128, activation = 'relu'))"
      ]
    },
    {
      "cell_type": "markdown",
      "metadata": {
        "id": "yTldFvbX28Na"
      },
      "source": [
        "### Step 5 - Output Layer"
      ]
    },
    {
      "cell_type": "code",
      "execution_count": null,
      "metadata": {
        "id": "c-IttDdf8YoC"
      },
      "outputs": [],
      "source": [
        "cnn.add(tf.keras.layers.Dense(units=1, activation = 'sigmoid'))"
      ]
    },
    {
      "cell_type": "markdown",
      "metadata": {
        "id": "D6XkI90snSDl"
      },
      "source": [
        "## Part 3 - Training the CNN"
      ]
    },
    {
      "cell_type": "markdown",
      "metadata": {
        "id": "vfrFQACEnc6i"
      },
      "source": [
        "### Compiling the CNN"
      ]
    },
    {
      "cell_type": "code",
      "execution_count": null,
      "metadata": {
        "id": "T-vX1NzD-okd"
      },
      "outputs": [],
      "source": [
        "cnn.compile(optimizer = 'adam', loss = 'binary_crossentropy', metrics = ['accuracy'])"
      ]
    },
    {
      "cell_type": "markdown",
      "metadata": {
        "id": "ehS-v3MIpX2h"
      },
      "source": [
        "### Training the CNN on the Training set and evaluating it on the Test set"
      ]
    },
    {
      "cell_type": "code",
      "execution_count": null,
      "metadata": {
        "id": "CdzMw3CNCzgA",
        "scrolled": false,
        "outputId": "0a41afac-72c7-48c4-9b72-4645718bec8a"
      },
      "outputs": [
        {
          "name": "stdout",
          "output_type": "stream",
          "text": [
            "Epoch 1/25\n",
            "250/250 [==============================] - 313s 1s/step - loss: 0.6731 - accuracy: 0.5774 - val_loss: 0.6440 - val_accuracy: 0.6085\n",
            "Epoch 2/25\n",
            "250/250 [==============================] - 78s 311ms/step - loss: 0.6211 - accuracy: 0.6492 - val_loss: 0.5697 - val_accuracy: 0.7105\n",
            "Epoch 3/25\n",
            "250/250 [==============================] - 56s 223ms/step - loss: 0.5813 - accuracy: 0.6984 - val_loss: 0.5641 - val_accuracy: 0.7230\n",
            "Epoch 4/25\n",
            "250/250 [==============================] - 57s 228ms/step - loss: 0.5470 - accuracy: 0.7226 - val_loss: 0.5120 - val_accuracy: 0.7530\n",
            "Epoch 5/25\n",
            "250/250 [==============================] - 56s 222ms/step - loss: 0.5192 - accuracy: 0.7389 - val_loss: 0.4881 - val_accuracy: 0.7665\n",
            "Epoch 6/25\n",
            "250/250 [==============================] - 55s 221ms/step - loss: 0.5100 - accuracy: 0.7470 - val_loss: 0.4887 - val_accuracy: 0.7730\n",
            "Epoch 7/25\n",
            "250/250 [==============================] - 56s 223ms/step - loss: 0.4855 - accuracy: 0.7639 - val_loss: 0.4866 - val_accuracy: 0.7675\n",
            "Epoch 8/25\n",
            "250/250 [==============================] - 63s 251ms/step - loss: 0.4673 - accuracy: 0.7746 - val_loss: 0.4870 - val_accuracy: 0.7830\n",
            "Epoch 9/25\n",
            "250/250 [==============================] - 72s 289ms/step - loss: 0.4552 - accuracy: 0.7856 - val_loss: 0.4652 - val_accuracy: 0.7895\n",
            "Epoch 10/25\n",
            "250/250 [==============================] - 72s 286ms/step - loss: 0.4447 - accuracy: 0.7915 - val_loss: 0.4657 - val_accuracy: 0.7855\n",
            "Epoch 11/25\n",
            "250/250 [==============================] - 67s 266ms/step - loss: 0.4276 - accuracy: 0.7993 - val_loss: 0.4694 - val_accuracy: 0.7905\n",
            "Epoch 12/25\n",
            "250/250 [==============================] - 205s 823ms/step - loss: 0.4037 - accuracy: 0.8130 - val_loss: 0.4442 - val_accuracy: 0.8030\n",
            "Epoch 13/25\n",
            "250/250 [==============================] - 203s 815ms/step - loss: 0.3944 - accuracy: 0.8195 - val_loss: 0.4593 - val_accuracy: 0.7960\n",
            "Epoch 14/25\n",
            "250/250 [==============================] - 133s 532ms/step - loss: 0.3769 - accuracy: 0.8260 - val_loss: 0.4519 - val_accuracy: 0.7970\n",
            "Epoch 15/25\n",
            "250/250 [==============================] - 76s 303ms/step - loss: 0.3663 - accuracy: 0.8349 - val_loss: 0.4452 - val_accuracy: 0.8010\n",
            "Epoch 16/25\n",
            "250/250 [==============================] - 76s 303ms/step - loss: 0.3527 - accuracy: 0.8386 - val_loss: 0.4566 - val_accuracy: 0.8060\n",
            "Epoch 17/25\n",
            "250/250 [==============================] - 61s 245ms/step - loss: 0.3367 - accuracy: 0.8493 - val_loss: 0.4676 - val_accuracy: 0.8135\n",
            "Epoch 18/25\n",
            "250/250 [==============================] - 56s 222ms/step - loss: 0.3189 - accuracy: 0.8620 - val_loss: 0.5063 - val_accuracy: 0.7945\n",
            "Epoch 19/25\n",
            "250/250 [==============================] - 55s 219ms/step - loss: 0.3146 - accuracy: 0.8625 - val_loss: 0.4650 - val_accuracy: 0.8075\n",
            "Epoch 20/25\n",
            "250/250 [==============================] - 55s 220ms/step - loss: 0.2934 - accuracy: 0.8689 - val_loss: 0.4999 - val_accuracy: 0.7890\n",
            "Epoch 21/25\n",
            "250/250 [==============================] - 55s 220ms/step - loss: 0.2777 - accuracy: 0.8834 - val_loss: 0.4798 - val_accuracy: 0.8100\n",
            "Epoch 22/25\n",
            "250/250 [==============================] - 55s 222ms/step - loss: 0.2617 - accuracy: 0.8864 - val_loss: 0.4654 - val_accuracy: 0.8130\n",
            "Epoch 23/25\n",
            "250/250 [==============================] - 56s 223ms/step - loss: 0.2504 - accuracy: 0.8926 - val_loss: 0.4977 - val_accuracy: 0.8100\n",
            "Epoch 24/25\n",
            "250/250 [==============================] - 55s 219ms/step - loss: 0.2354 - accuracy: 0.9030 - val_loss: 0.5012 - val_accuracy: 0.8120\n",
            "Epoch 25/25\n",
            "250/250 [==============================] - 55s 221ms/step - loss: 0.2320 - accuracy: 0.9026 - val_loss: 0.4765 - val_accuracy: 0.8085\n"
          ]
        },
        {
          "data": {
            "text/plain": [
              "<keras.callbacks.History at 0x28f3c868d90>"
            ]
          },
          "execution_count": 15,
          "metadata": {},
          "output_type": "execute_result"
        }
      ],
      "source": [
        "cnn.fit(x = training_set, validation_data = test_set, epochs = 25)"
      ]
    },
    {
      "cell_type": "markdown",
      "metadata": {
        "id": "U3PZasO0006Z"
      },
      "source": [
        "## Part 4 - Making a single prediction"
      ]
    },
    {
      "cell_type": "code",
      "execution_count": null,
      "metadata": {
        "id": "-xa-cW1i3oqs",
        "outputId": "7348d6ab-38a9-4914-8029-91748040e9bf"
      },
      "outputs": [
        {
          "name": "stdout",
          "output_type": "stream",
          "text": [
            "1/1 [==============================] - 0s 84ms/step\n"
          ]
        }
      ],
      "source": [
        "import numpy as np\n",
        "from keras.preprocessing import image\n",
        "from keras import utils\n",
        "test_image = utils.load_img('fauna.jpg', target_size = (64, 64))\n",
        "test_image = utils.img_to_array(test_image)\n",
        "test_image = np.expand_dims(test_image, axis = 0)\n",
        "result = cnn.predict(test_image)\n",
        "training_set.class_indices\n",
        "if result[0][0] == 1:\n",
        "  prediction = 'dog'\n",
        "else:\n",
        "  prediction = 'cat'"
      ]
    },
    {
      "cell_type": "code",
      "execution_count": null,
      "metadata": {
        "id": "vBLioV1wXvpi",
        "outputId": "7160dd89-3703-46e0-ce97-8489b447a527"
      },
      "outputs": [
        {
          "name": "stdout",
          "output_type": "stream",
          "text": [
            "dog\n"
          ]
        }
      ],
      "source": [
        "print(prediction)"
      ]
    }
  ],
  "metadata": {
    "colab": {
      "provenance": []
    },
    "kernelspec": {
      "display_name": "Python 3 (ipykernel)",
      "language": "python",
      "name": "python3"
    },
    "language_info": {
      "codemirror_mode": {
        "name": "ipython",
        "version": 3
      },
      "file_extension": ".py",
      "mimetype": "text/x-python",
      "name": "python",
      "nbconvert_exporter": "python",
      "pygments_lexer": "ipython3",
      "version": "3.9.13"
    }
  },
  "nbformat": 4,
  "nbformat_minor": 0
}