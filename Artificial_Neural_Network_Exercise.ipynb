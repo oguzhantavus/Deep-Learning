{
  "nbformat": 4,
  "nbformat_minor": 0,
  "metadata": {
    "colab": {
      "provenance": []
    },
    "kernelspec": {
      "name": "python3",
      "display_name": "Python 3"
    }
  },
  "cells": [
    {
      "cell_type": "markdown",
      "metadata": {
        "id": "3cbb7fRy-eyr"
      },
      "source": [
        "# Artificial Neural Network"
      ]
    },
    {
      "cell_type": "markdown",
      "metadata": {
        "id": "8sNDnxE2-pwE"
      },
      "source": [
        "### Importing the libraries"
      ]
    },
    {
      "cell_type": "code",
      "source": [
        "import numpy as np\n",
        "import pandas as pd\n",
        "import tensorflow as tf"
      ],
      "metadata": {
        "id": "FH3_J61LTc6H"
      },
      "execution_count": null,
      "outputs": []
    },
    {
      "cell_type": "code",
      "source": [
        "tf.__version__"
      ],
      "metadata": {
        "colab": {
          "base_uri": "https://localhost:8080/",
          "height": 36
        },
        "id": "ONNfjKbVYUii",
        "outputId": "7b3cfaba-5df1-456c-ceee-715bc8697459"
      },
      "execution_count": null,
      "outputs": [
        {
          "output_type": "execute_result",
          "data": {
            "text/plain": [
              "'2.9.2'"
            ],
            "application/vnd.google.colaboratory.intrinsic+json": {
              "type": "string"
            }
          },
          "metadata": {},
          "execution_count": 2
        }
      ]
    },
    {
      "cell_type": "markdown",
      "metadata": {
        "id": "AG3FQEch-yuA"
      },
      "source": [
        "## Part 1 - Data Preprocessing"
      ]
    },
    {
      "cell_type": "markdown",
      "metadata": {
        "id": "-4zq8Mza_D9O"
      },
      "source": [
        "### Importing the dataset"
      ]
    },
    {
      "cell_type": "code",
      "source": [
        "dataset = pd.read_excel('Folds5x2_pp.xlsx')\n",
        "X = dataset.iloc[:, :-1].values\n",
        "y = dataset.iloc[:, -1].values"
      ],
      "metadata": {
        "id": "bo2eKz_GYh19"
      },
      "execution_count": null,
      "outputs": []
    },
    {
      "cell_type": "code",
      "source": [
        "print(X)\n",
        "print(y)"
      ],
      "metadata": {
        "colab": {
          "base_uri": "https://localhost:8080/"
        },
        "id": "aLgE1DeV92xe",
        "outputId": "ecb0ea82-0404-4729-d9f2-25e75b6d9166"
      },
      "execution_count": null,
      "outputs": [
        {
          "output_type": "stream",
          "name": "stdout",
          "text": [
            "[[  14.96   41.76 1024.07   73.17]\n",
            " [  25.18   62.96 1020.04   59.08]\n",
            " [   5.11   39.4  1012.16   92.14]\n",
            " ...\n",
            " [  31.32   74.33 1012.92   36.48]\n",
            " [  24.48   69.45 1013.86   62.39]\n",
            " [  21.6    62.52 1017.23   67.87]]\n",
            "[463.26 444.37 488.56 ... 429.57 435.74 453.28]\n"
          ]
        }
      ]
    },
    {
      "cell_type": "markdown",
      "metadata": {
        "id": "VC6omXel_Up0"
      },
      "source": [
        "### Splitting the dataset into the Training set and Test set"
      ]
    },
    {
      "cell_type": "code",
      "source": [
        "from sklearn.model_selection import train_test_split\n",
        "X_train, X_test, y_train, y_test = train_test_split(X, y, test_size = 0.2, random_state = 0)"
      ],
      "metadata": {
        "id": "7xrVW2fF66dq"
      },
      "execution_count": null,
      "outputs": []
    },
    {
      "cell_type": "markdown",
      "metadata": {
        "id": "_mSLlAT9_eyI"
      },
      "source": [
        "## Part 2 - Building the ANN"
      ]
    },
    {
      "cell_type": "markdown",
      "metadata": {
        "id": "CsBULd_f_wLY"
      },
      "source": [
        "### Initializing the ANN"
      ]
    },
    {
      "cell_type": "code",
      "source": [
        "ann = tf.keras.models.Sequential()"
      ],
      "metadata": {
        "id": "fi4VnQIl7QhX"
      },
      "execution_count": null,
      "outputs": []
    },
    {
      "cell_type": "markdown",
      "metadata": {
        "id": "iitAFJS_ABUn"
      },
      "source": [
        "### Adding the input layer and the first hidden layer"
      ]
    },
    {
      "cell_type": "code",
      "source": [
        "ann.add(tf.keras.layers.Dense(units=6, activation = 'relu'))"
      ],
      "metadata": {
        "id": "_smfx27f7TcX"
      },
      "execution_count": null,
      "outputs": []
    },
    {
      "cell_type": "markdown",
      "metadata": {
        "id": "-lb4kK_wAKbs"
      },
      "source": [
        "### Adding the second hidden layer"
      ]
    },
    {
      "cell_type": "code",
      "source": [
        "ann.add(tf.keras.layers.Dense(units=6, activation = 'relu'))"
      ],
      "metadata": {
        "id": "FeKXqbo07hw-"
      },
      "execution_count": null,
      "outputs": []
    },
    {
      "cell_type": "markdown",
      "metadata": {
        "id": "jwMOmKb3AdBY"
      },
      "source": [
        "### Adding the output layer"
      ]
    },
    {
      "cell_type": "code",
      "source": [
        "ann.add(tf.keras.layers.Dense(units=1))"
      ],
      "metadata": {
        "id": "YSz1-fKb8Dh2"
      },
      "execution_count": null,
      "outputs": []
    },
    {
      "cell_type": "markdown",
      "metadata": {
        "id": "fq7e4fF6A1yy"
      },
      "source": [
        "## Part 3 - Training the ANN"
      ]
    },
    {
      "cell_type": "markdown",
      "metadata": {
        "id": "qDeylAs2An25"
      },
      "source": [
        "### Compiling the ANN"
      ]
    },
    {
      "cell_type": "code",
      "source": [
        "ann.compile(optimizer = 'adam', loss = 'mean_squared_error')"
      ],
      "metadata": {
        "id": "qpct4b7i8cyf"
      },
      "execution_count": null,
      "outputs": []
    },
    {
      "cell_type": "markdown",
      "metadata": {
        "id": "YjVuiybYOo7r"
      },
      "source": [
        "### Training the ANN model on the Training set"
      ]
    },
    {
      "cell_type": "code",
      "source": [
        "ann.fit(X_train, y_train, batch_size = 32, epochs = 100)"
      ],
      "metadata": {
        "id": "g9ZHGjEM8eIm",
        "colab": {
          "base_uri": "https://localhost:8080/"
        },
        "outputId": "df48ac95-0e0c-4249-bdc7-20dc154797f5"
      },
      "execution_count": null,
      "outputs": [
        {
          "output_type": "stream",
          "name": "stdout",
          "text": [
            "Epoch 1/100\n",
            "240/240 [==============================] - 0s 2ms/step - loss: 26.4708\n",
            "Epoch 2/100\n",
            "240/240 [==============================] - 1s 3ms/step - loss: 27.0471\n",
            "Epoch 3/100\n",
            "240/240 [==============================] - 0s 2ms/step - loss: 26.6980\n",
            "Epoch 4/100\n",
            "240/240 [==============================] - 0s 2ms/step - loss: 26.8570\n",
            "Epoch 5/100\n",
            "240/240 [==============================] - 1s 3ms/step - loss: 26.7023\n",
            "Epoch 6/100\n",
            "240/240 [==============================] - 0s 2ms/step - loss: 26.7069\n",
            "Epoch 7/100\n",
            "240/240 [==============================] - 0s 2ms/step - loss: 26.4567\n",
            "Epoch 8/100\n",
            "240/240 [==============================] - 0s 2ms/step - loss: 26.9536\n",
            "Epoch 9/100\n",
            "240/240 [==============================] - 0s 2ms/step - loss: 26.5011\n",
            "Epoch 10/100\n",
            "240/240 [==============================] - 0s 2ms/step - loss: 26.4624\n",
            "Epoch 11/100\n",
            "240/240 [==============================] - 0s 2ms/step - loss: 26.5565\n",
            "Epoch 12/100\n",
            "240/240 [==============================] - 0s 2ms/step - loss: 26.7052\n",
            "Epoch 13/100\n",
            "240/240 [==============================] - 0s 2ms/step - loss: 26.4234\n",
            "Epoch 14/100\n",
            "240/240 [==============================] - 0s 2ms/step - loss: 26.5428\n",
            "Epoch 15/100\n",
            "240/240 [==============================] - 0s 2ms/step - loss: 26.6413\n",
            "Epoch 16/100\n",
            "240/240 [==============================] - 0s 2ms/step - loss: 27.1382\n",
            "Epoch 17/100\n",
            "240/240 [==============================] - 0s 2ms/step - loss: 26.0775\n",
            "Epoch 18/100\n",
            "240/240 [==============================] - 0s 2ms/step - loss: 26.5051\n",
            "Epoch 19/100\n",
            "240/240 [==============================] - 0s 2ms/step - loss: 26.3371\n",
            "Epoch 20/100\n",
            "240/240 [==============================] - 0s 2ms/step - loss: 26.7019\n",
            "Epoch 21/100\n",
            "240/240 [==============================] - 0s 2ms/step - loss: 26.2704\n",
            "Epoch 22/100\n",
            "240/240 [==============================] - 0s 2ms/step - loss: 26.8823\n",
            "Epoch 23/100\n",
            "240/240 [==============================] - 0s 2ms/step - loss: 26.4603\n",
            "Epoch 24/100\n",
            "240/240 [==============================] - 0s 2ms/step - loss: 26.6800\n",
            "Epoch 25/100\n",
            "240/240 [==============================] - 0s 2ms/step - loss: 26.6658\n",
            "Epoch 26/100\n",
            "240/240 [==============================] - 0s 2ms/step - loss: 26.9465\n",
            "Epoch 27/100\n",
            "240/240 [==============================] - 0s 2ms/step - loss: 26.4706\n",
            "Epoch 28/100\n",
            "240/240 [==============================] - 0s 2ms/step - loss: 26.6689\n",
            "Epoch 29/100\n",
            "240/240 [==============================] - 0s 2ms/step - loss: 26.5654\n",
            "Epoch 30/100\n",
            "240/240 [==============================] - 0s 2ms/step - loss: 26.6776\n",
            "Epoch 31/100\n",
            "240/240 [==============================] - 0s 2ms/step - loss: 26.6456\n",
            "Epoch 32/100\n",
            "240/240 [==============================] - 0s 2ms/step - loss: 26.6115\n",
            "Epoch 33/100\n",
            "240/240 [==============================] - 0s 2ms/step - loss: 26.6078\n",
            "Epoch 34/100\n",
            "240/240 [==============================] - 0s 2ms/step - loss: 26.4001\n",
            "Epoch 35/100\n",
            "240/240 [==============================] - 0s 2ms/step - loss: 26.5064\n",
            "Epoch 36/100\n",
            "240/240 [==============================] - 0s 2ms/step - loss: 26.7866\n",
            "Epoch 37/100\n",
            "240/240 [==============================] - 0s 2ms/step - loss: 26.6887\n",
            "Epoch 38/100\n",
            "240/240 [==============================] - 0s 2ms/step - loss: 26.4105\n",
            "Epoch 39/100\n",
            "240/240 [==============================] - 0s 2ms/step - loss: 27.1143\n",
            "Epoch 40/100\n",
            "240/240 [==============================] - 0s 2ms/step - loss: 27.2429\n",
            "Epoch 41/100\n",
            "240/240 [==============================] - 0s 2ms/step - loss: 26.3606\n",
            "Epoch 42/100\n",
            "240/240 [==============================] - 0s 2ms/step - loss: 26.2460\n",
            "Epoch 43/100\n",
            "240/240 [==============================] - 0s 2ms/step - loss: 26.3963\n",
            "Epoch 44/100\n",
            "240/240 [==============================] - 0s 2ms/step - loss: 26.8413\n",
            "Epoch 45/100\n",
            "240/240 [==============================] - 0s 2ms/step - loss: 26.8204\n",
            "Epoch 46/100\n",
            "240/240 [==============================] - 0s 2ms/step - loss: 26.6124\n",
            "Epoch 47/100\n",
            "240/240 [==============================] - 0s 2ms/step - loss: 26.4505\n",
            "Epoch 48/100\n",
            "240/240 [==============================] - 0s 2ms/step - loss: 26.3598\n",
            "Epoch 49/100\n",
            "240/240 [==============================] - 0s 2ms/step - loss: 26.9706\n",
            "Epoch 50/100\n",
            "240/240 [==============================] - 0s 2ms/step - loss: 26.8776\n",
            "Epoch 51/100\n",
            "240/240 [==============================] - 0s 2ms/step - loss: 26.7182\n",
            "Epoch 52/100\n",
            "240/240 [==============================] - 0s 2ms/step - loss: 26.3727\n",
            "Epoch 53/100\n",
            "240/240 [==============================] - 0s 2ms/step - loss: 26.3415\n",
            "Epoch 54/100\n",
            "240/240 [==============================] - 0s 2ms/step - loss: 26.5157\n",
            "Epoch 55/100\n",
            "240/240 [==============================] - 0s 2ms/step - loss: 26.5782\n",
            "Epoch 56/100\n",
            "240/240 [==============================] - 0s 2ms/step - loss: 26.4869\n",
            "Epoch 57/100\n",
            "240/240 [==============================] - 0s 2ms/step - loss: 26.5535\n",
            "Epoch 58/100\n",
            "240/240 [==============================] - 0s 2ms/step - loss: 26.6337\n",
            "Epoch 59/100\n",
            "240/240 [==============================] - 0s 2ms/step - loss: 26.2578\n",
            "Epoch 60/100\n",
            "240/240 [==============================] - 0s 2ms/step - loss: 27.1934\n",
            "Epoch 61/100\n",
            "240/240 [==============================] - 0s 2ms/step - loss: 26.2180\n",
            "Epoch 62/100\n",
            "240/240 [==============================] - 0s 2ms/step - loss: 26.9198\n",
            "Epoch 63/100\n",
            "240/240 [==============================] - 0s 2ms/step - loss: 26.4479\n",
            "Epoch 64/100\n",
            "240/240 [==============================] - 0s 2ms/step - loss: 27.1786\n",
            "Epoch 65/100\n",
            "240/240 [==============================] - 0s 2ms/step - loss: 26.5630\n",
            "Epoch 66/100\n",
            "240/240 [==============================] - 0s 2ms/step - loss: 26.7012\n",
            "Epoch 67/100\n",
            "240/240 [==============================] - 0s 2ms/step - loss: 26.5268\n",
            "Epoch 68/100\n",
            "240/240 [==============================] - 0s 2ms/step - loss: 26.7229\n",
            "Epoch 69/100\n",
            "240/240 [==============================] - 0s 2ms/step - loss: 26.3361\n",
            "Epoch 70/100\n",
            "240/240 [==============================] - 0s 2ms/step - loss: 27.3081\n",
            "Epoch 71/100\n",
            "240/240 [==============================] - 0s 2ms/step - loss: 26.7154\n",
            "Epoch 72/100\n",
            "240/240 [==============================] - 0s 2ms/step - loss: 26.5146\n",
            "Epoch 73/100\n",
            "240/240 [==============================] - 0s 2ms/step - loss: 26.9979\n",
            "Epoch 74/100\n",
            "240/240 [==============================] - 0s 2ms/step - loss: 26.8371\n",
            "Epoch 75/100\n",
            "240/240 [==============================] - 0s 2ms/step - loss: 26.8210\n",
            "Epoch 76/100\n",
            "240/240 [==============================] - 0s 2ms/step - loss: 26.5023\n",
            "Epoch 77/100\n",
            "240/240 [==============================] - 0s 2ms/step - loss: 27.1166\n",
            "Epoch 78/100\n",
            "240/240 [==============================] - 0s 2ms/step - loss: 26.8341\n",
            "Epoch 79/100\n",
            "240/240 [==============================] - 0s 2ms/step - loss: 26.6702\n",
            "Epoch 80/100\n",
            "240/240 [==============================] - 0s 2ms/step - loss: 26.5117\n",
            "Epoch 81/100\n",
            "240/240 [==============================] - 0s 2ms/step - loss: 26.7109\n",
            "Epoch 82/100\n",
            "240/240 [==============================] - 0s 2ms/step - loss: 26.3822\n",
            "Epoch 83/100\n",
            "240/240 [==============================] - 0s 2ms/step - loss: 26.6803\n",
            "Epoch 84/100\n",
            "240/240 [==============================] - 0s 2ms/step - loss: 26.6002\n",
            "Epoch 85/100\n",
            "240/240 [==============================] - 0s 2ms/step - loss: 26.3497\n",
            "Epoch 86/100\n",
            "240/240 [==============================] - 0s 2ms/step - loss: 26.6148\n",
            "Epoch 87/100\n",
            "240/240 [==============================] - 0s 2ms/step - loss: 26.2376\n",
            "Epoch 88/100\n",
            "240/240 [==============================] - 0s 2ms/step - loss: 26.5518\n",
            "Epoch 89/100\n",
            "240/240 [==============================] - 0s 2ms/step - loss: 26.6963\n",
            "Epoch 90/100\n",
            "240/240 [==============================] - 0s 2ms/step - loss: 26.8682\n",
            "Epoch 91/100\n",
            "240/240 [==============================] - 0s 2ms/step - loss: 27.1878\n",
            "Epoch 92/100\n",
            "240/240 [==============================] - 0s 2ms/step - loss: 26.3225\n",
            "Epoch 93/100\n",
            "240/240 [==============================] - 0s 2ms/step - loss: 26.6610\n",
            "Epoch 94/100\n",
            "240/240 [==============================] - 0s 2ms/step - loss: 26.8196\n",
            "Epoch 95/100\n",
            "240/240 [==============================] - 0s 2ms/step - loss: 26.3779\n",
            "Epoch 96/100\n",
            "240/240 [==============================] - 0s 2ms/step - loss: 26.6158\n",
            "Epoch 97/100\n",
            "240/240 [==============================] - 0s 2ms/step - loss: 26.6026\n",
            "Epoch 98/100\n",
            "240/240 [==============================] - 0s 2ms/step - loss: 26.5827\n",
            "Epoch 99/100\n",
            "240/240 [==============================] - 0s 2ms/step - loss: 26.6704\n",
            "Epoch 100/100\n",
            "240/240 [==============================] - 0s 2ms/step - loss: 26.2874\n"
          ]
        },
        {
          "output_type": "execute_result",
          "data": {
            "text/plain": [
              "<keras.callbacks.History at 0x7ff674e96130>"
            ]
          },
          "metadata": {},
          "execution_count": 12
        }
      ]
    },
    {
      "cell_type": "markdown",
      "metadata": {
        "id": "0H0zKKNEBLD5"
      },
      "source": [
        "### Predicting the results of the Test set"
      ]
    },
    {
      "cell_type": "code",
      "source": [
        "y_pred = ann.predict(X_test)\n",
        "np.set_printoptions(precision = 2)\n",
        "print(np.concatenate((y_pred.reshape(len(y_pred), 1), y_test.reshape(len(y_test), 1)),1))"
      ],
      "metadata": {
        "colab": {
          "base_uri": "https://localhost:8080/"
        },
        "id": "h_9JGqjZapUa",
        "outputId": "a1d93321-f4ed-4867-fda3-eb969ec565be"
      },
      "execution_count": null,
      "outputs": [
        {
          "output_type": "stream",
          "name": "stdout",
          "text": [
            "60/60 [==============================] - 0s 1ms/step\n",
            "[[431.74 431.23]\n",
            " [462.79 460.01]\n",
            " [466.28 461.14]\n",
            " ...\n",
            " [473.55 473.26]\n",
            " [440.26 438.  ]\n",
            " [459.51 463.28]]\n"
          ]
        }
      ]
    }
  ]
}